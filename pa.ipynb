{
 "cells": [
  {
   "cell_type": "markdown",
   "metadata": {},
   "source": [
    "# physical activity"
   ]
  },
  {
   "cell_type": "code",
   "execution_count": 1,
   "metadata": {},
   "outputs": [],
   "source": [
    "import yaml\n",
    "import pandas as pd\n",
    "import glob\n",
    "import numpy as np\n",
    "import matplotlib.pyplot as plt\n",
    "import re\n",
    "import stemgraphic\n",
    "import functools\n",
    "\n",
    "from pathlib import Path\n",
    "from itertools import compress\n",
    "from sklearn.cluster import KMeans\n",
    "from scipy import signal\n",
    "\n",
    "%matplotlib inline"
   ]
  },
  {
   "cell_type": "markdown",
   "metadata": {},
   "source": [
    "Paths to phenotype data and project directories"
   ]
  },
  {
   "cell_type": "code",
   "execution_count": 2,
   "metadata": {},
   "outputs": [],
   "source": [
    "wrk_dir = Path('.')\n",
    "\n",
    "with open(wrk_dir / 'config/path.yaml') as f:\n",
    "    path = yaml.full_load(f)\n",
    "\n",
    "app_dir = Path(path['application'])\n",
    "prj_dir = Path(path['project'])\n",
    "\n",
    "phe_dir = app_dir / 'phenotypes'"
   ]
  },
  {
   "cell_type": "markdown",
   "metadata": {},
   "source": [
    "Read field look-up table and phenotype data. (This data was prepared using ukbkings, R/fields.R)"
   ]
  },
  {
   "cell_type": "code",
   "execution_count": 3,
   "metadata": {},
   "outputs": [],
   "source": [
    "field_files = glob.glob(str(phe_dir / '*field_finder.txt'))\n",
    "\n",
    "f = pd.concat((pd.read_csv(f, sep='\\t', header=0) for f in field_files), ignore_index=True)\n",
    "\n",
    "col_type = {\n",
    "        'Sequence': 'Int64',\n",
    "        'Integer': 'Int64',\n",
    "        'Categorical (single)': 'str',\n",
    "        'Categorical (multiple)': 'str',\n",
    "        'Continuous': 'float',\n",
    "        'Text': 'str',\n",
    "        'Date': 'str',\n",
    "        'Time': 'str',\n",
    "        'Compound': 'str',\n",
    "        'Binary object': 'str',\n",
    "        'Records': 'str',\n",
    "        'Curve': 'str'\n",
    "}\n",
    "\n",
    "f['py_type'] = [col_type[t] for t in f['ukb_type']]\n",
    "\n",
    "df = pd.read_csv(prj_dir / 'data/pheno/crf.pa.csv',\n",
    "                 dtype=dict(zip(f['field'], f['py_type'])))\n",
    "\n",
    "# Update columns to descriptive names\n",
    "fields = df.columns.tolist()\n",
    "f = f.loc[f.field.isin(fields), ].drop_duplicates()\n",
    "df.columns = np.ravel([f.loc[f.field == col, 'name'].tolist() for col in df.columns]).tolist()\n",
    "\n",
    "# Clean up names\n",
    "char_to_replace = {'(': '', ')': '', '/': '_'}\n",
    "df.columns = [name.translate(str.maketrans(char_to_replace)) for name in df.columns.to_list()]"
   ]
  },
  {
   "cell_type": "markdown",
   "metadata": {},
   "source": [
    "## PA phenotype QC\n",
    "\n",
    "Read fam, sample, and sqc files for genetic metadata sample QC"
   ]
  },
  {
   "cell_type": "code",
   "execution_count": 4,
   "metadata": {},
   "outputs": [],
   "source": [
    "fam_col_names = ['fid', 'iid', 'pid', 'mid', 'sex', 'phe']\n",
    "fam = pd.read_csv(app_dir / 'genotyped/wukb13427_cal_chr22_v2_s488264.fam',\n",
    "                  sep=' ', header=None, names=fam_col_names)\n",
    "\n",
    "sample_col_names = ['fid', 'iid', 'miss', 'sex']\n",
    "sample_file = pd.read_csv(app_dir / 'imputed/wukb13427_imp_chr22_v3_s487296.sample',\n",
    "                          sep=' ', header=None, names=sample_col_names,\n",
    "                          skiprows=[0, 1])\n",
    "\n",
    "sqc_col_names = list(\n",
    "    ['x1', 'x2', 'genotyping.array', 'Batch', 'Plate.Name', 'Well', 'Cluster.CR', 'dQC', 'Internal.Pico..ng.uL.',\n",
    "     'Submitted.Gender', 'Inferred.Gender', 'X.intensity', 'Y.intensity', 'Submitted.Plate.Name', 'Submitted.Well',\n",
    "     'sample.qc.missing.rate', 'heterozygosity', 'heterozygosity.pc.corrected', 'het.missing.outliers',\n",
    "     'putative.sex.chromosome.aneuploidy', 'in.kinship.table', 'excluded.from.kinship.inference', 'excess.relatives',\n",
    "     'in.white.British.ancestry.subset', 'used.in.pca.calculation'] +\n",
    "    [f'{a}{b}' for a, b in zip(['pc'] * 40, list(range(1, 40 + 1)))] + # 26:65\n",
    "    ['in.Phasing.Input.chr1_22', 'in.Phasing.Input.chrX', 'in.Phasing.Input.chrXY'])\n",
    "\n",
    "sqc_col_names = [col_name.lower().replace('.', '_') for col_name in sqc_col_names] \n",
    "sqc = pd.read_csv(app_dir / 'imputed/ukb_sqc_v2.txt', sep=' ', header=None, names=sqc_col_names)\n",
    "\n",
    "# Identify EUR sample by 4-means clustering\n",
    "model = KMeans(4).fit(sqc.loc[:, ['pc1', 'pc2']])\n",
    "sqc['pop'] = model.labels_\n",
    "sqc = sqc[['genotyping_array', 'submitted_gender', 'inferred_gender',\n",
    "           'het_missing_outliers', 'putative_sex_chromosome_aneuploidy',\n",
    "           'excess_relatives', 'pop']]\n",
    "\n",
    "# BOLT-LMM requires sample to be in both fam and sample files\n",
    "meta = pd.merge(sample_file[['fid', 'iid']], fam.join(sqc), on=('fid', 'iid'), how='inner')\n",
    "\n",
    "df = pd.merge(df, meta, left_on='eid', right_on='fid', how='right')"
   ]
  },
  {
   "cell_type": "markdown",
   "metadata": {},
   "source": [
    "Filter and select variables"
   ]
  },
  {
   "cell_type": "code",
   "execution_count": 5,
   "metadata": {},
   "outputs": [],
   "source": [
    "pa = df[(\n",
    "    (df['data_quality_good_wear_time_f90015_0_0'] == '1') &\n",
    "    (df['data_quality_good_calibration_f90016_0_0'] == '1') &\n",
    "    df['data_problem_indicator_f90002_0_0'].isna() &\n",
    "    df['no_wear_time_bias_adjusted_average_acceleration_f90087_0_0'].notna() &\n",
    "    (df['no_wear_time_bias_adjusted_average_acceleration_f90087_0_0'] < 100) &\n",
    "    (df['submitted_gender'] == df['inferred_gender']) &\n",
    "    (df['excess_relatives'] == 0) &\n",
    "    (df['putative_sex_chromosome_aneuploidy'] == 0) &\n",
    "    (df['het_missing_outliers'] == 0) &\n",
    "    (df['pop'] == df['pop'].value_counts().idxmax())\n",
    "    )]"
   ]
  },
  {
   "cell_type": "code",
   "execution_count": 6,
   "metadata": {},
   "outputs": [],
   "source": [
    "pa = pa[['eid',\n",
    "         'no_wear_time_bias_adjusted_average_acceleration_f90087_0_0',\n",
    "#          'age_when_attended_assessment_centre_f21003',\n",
    "         'age_at_recruitment_f21022_0_0',\n",
    "         'inferred_gender',\n",
    "         'body_mass_index_bmi_f21001_0_0',\n",
    "         'genotyping_array',\n",
    "         'uk_biobank_assessment_centre_f54_0_0',\n",
    "         'smoking_status_f20116_0_0',\n",
    "         'alcohol_drinker_status_f20117_0_0',]]\n",
    "\n",
    "pa = pa.rename({'age_at_recruitment_f21022_0_0': 'age',\n",
    "                'inferred_gender': 'sex',\n",
    "                'body_mass_index_bmi_f21001_0_0': 'bmi',\n",
    "                'genotyping_array': 'array',\n",
    "                'uk_biobank_assessment_centre_f54_0_0': 'centre',\n",
    "                'smoking_status_f20116_0_0': 'smoking',\n",
    "                'alcohol_drinker_status_f20117_0_0': 'alcohol',\n",
    "                'no_wear_time_bias_adjusted_average_acceleration_f90087_0_0': 'pa'},\n",
    "               axis='columns')"
   ]
  },
  {
   "cell_type": "code",
   "execution_count": 7,
   "metadata": {},
   "outputs": [],
   "source": [
    "# BOLT-LMM pheno file requires header, with first 2 columns FID IID\n",
    "pa['FID'] = pa['eid']\n",
    "pa = pa.rename(columns={'eid': 'IID'})\n",
    "\n",
    "pa = pa.replace({'sex': {'M': '1', 'F': '2'},\n",
    "                 'array': {'UKBL': '0', 'UKBB': '1'},\n",
    "                 'smoking': {'-3': 'NA'},\n",
    "                 'alcohol': {'-3': 'NA'}})\n",
    "\n",
    "pa['mpa'] =  np.where(pa['sex']=='1', pa['pa'], np.nan)\n",
    "pa['fpa'] =  np.where(pa['sex']=='2', pa['pa'], np.nan)"
   ]
  },
  {
   "cell_type": "code",
   "execution_count": 8,
   "metadata": {},
   "outputs": [],
   "source": [
    "# stemgraphic.stem_graphic(pa['no_wear_time_bias_adjusted_average_acceleration_f90087_0_0'])"
   ]
  },
  {
   "cell_type": "markdown",
   "metadata": {},
   "source": [
    "Write phenotype/ covariate and keep files"
   ]
  },
  {
   "cell_type": "code",
   "execution_count": 9,
   "metadata": {},
   "outputs": [],
   "source": [
    "(pa[pa['pa'].notnull()][['FID', 'IID', 'pa', 'age', 'sex', 'array', 'centre', 'bmi', 'smoking', 'alcohol']]\n",
    " .to_csv('data/pheno/pa.pheno', sep=' ', header=True, index=False, na_rep='NA'))\n",
    "\n",
    "(pa[pa['mpa'].notnull()][['FID', 'IID', 'pa', 'age', 'sex', 'array', 'centre', 'bmi', 'smoking', 'alcohol']]\n",
    " .to_csv('data/pheno/pa.m.pheno', sep=' ', header=True, index=False, na_rep='NA'))\n",
    "\n",
    "(pa[pa['fpa'].notnull()][['FID', 'IID', 'pa', 'age', 'sex', 'array', 'centre', 'bmi', 'smoking', 'alcohol']]\n",
    " .to_csv('data/pheno/pa.f.pheno', sep=' ', header=True, index=False, na_rep='NA'))\n",
    "\n",
    "pa[['FID', 'IID']].to_csv('data/pheno/pa.keep', sep=' ', header=False, index=False)\n",
    "pa[pa['mpa'].notnull()][['FID', 'IID']].to_csv('data/pheno/pa.m.keep', sep=' ', header=False, index=False)\n",
    "pa[pa['fpa'].notnull()][['FID', 'IID']].to_csv('data/pheno/pa.f.keep', sep=' ', header=False, index=False)"
   ]
  },
  {
   "cell_type": "code",
   "execution_count": 10,
   "metadata": {},
   "outputs": [
    {
     "name": "stdout",
     "output_type": "stream",
     "text": [
      "  50332 data/pheno/pa.f.pheno\n",
      "  39353 data/pheno/pa.m.pheno\n",
      "  89684 data/pheno/pa.pheno\n",
      " 179369 total\n",
      "  50331 data/pheno/pa.f.keep\n",
      "  89683 data/pheno/pa.keep\n",
      "  39352 data/pheno/pa.m.keep\n",
      " 179366 total\n"
     ]
    }
   ],
   "source": [
    "%%bash\n",
    "\n",
    "wc -l data/pheno/*pheno\n",
    "wc -l data/pheno/*keep"
   ]
  },
  {
   "cell_type": "code",
   "execution_count": null,
   "metadata": {},
   "outputs": [],
   "source": []
  }
 ],
 "metadata": {
  "kernelspec": {
   "display_name": "Python 3.7.3 64-bit ('base': conda)",
   "language": "python",
   "name": "python373jvsc74a57bd022ab3e6a73a2731b2d2a5eee53baffdb723c6979335821acd0eb70065f9061b3"
  },
  "language_info": {
   "codemirror_mode": {
    "name": "ipython",
    "version": 3
   },
   "file_extension": ".py",
   "mimetype": "text/x-python",
   "name": "python",
   "nbconvert_exporter": "python",
   "pygments_lexer": "ipython3",
   "version": "3.7.3"
  },
  "metadata": {
   "interpreter": {
    "hash": "22ab3e6a73a2731b2d2a5eee53baffdb723c6979335821acd0eb70065f9061b3"
   }
  }
 },
 "nbformat": 4,
 "nbformat_minor": 4
}
