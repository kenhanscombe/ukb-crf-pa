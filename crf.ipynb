{
 "cells": [
  {
   "cell_type": "markdown",
   "metadata": {
    "tags": []
   },
   "source": [
    "# cardiorespiratory fitness"
   ]
  },
  {
   "cell_type": "code",
   "execution_count": 1,
   "metadata": {},
   "outputs": [],
   "source": [
    "import yaml\n",
    "import pandas as pd\n",
    "import glob\n",
    "import numpy as np\n",
    "import matplotlib.pyplot as plt\n",
    "import re\n",
    "import stemgraphic\n",
    "import functools\n",
    "\n",
    "from pathlib import Path\n",
    "from itertools import compress\n",
    "from sklearn.cluster import KMeans\n",
    "from scipy import signal\n",
    "from scipy.stats import pearsonr\n",
    "from sklearn.linear_model import LinearRegression\n",
    "from functools import reduce\n",
    "\n",
    "%matplotlib inline"
   ]
  },
  {
   "cell_type": "markdown",
   "metadata": {},
   "source": [
    "Paths to phenotype data and project directories"
   ]
  },
  {
   "cell_type": "code",
   "execution_count": 2,
   "metadata": {},
   "outputs": [],
   "source": [
    "wrk_dir = Path('.')\n",
    "\n",
    "with open(wrk_dir / 'config/path.yaml') as f:\n",
    "    path = yaml.full_load(f)\n",
    "\n",
    "app_dir = Path(path['application'])\n",
    "prj_dir = Path(path['project'])\n",
    "\n",
    "phe_dir = app_dir / 'phenotypes'"
   ]
  },
  {
   "cell_type": "markdown",
   "metadata": {},
   "source": [
    "Read field look-up table and phenotype data. (This data was prepared using ukbkings, R/fields.R)"
   ]
  },
  {
   "cell_type": "code",
   "execution_count": 3,
   "metadata": {},
   "outputs": [],
   "source": [
    "field_files = glob.glob(str(phe_dir / '*field_finder.txt'))\n",
    "\n",
    "f = pd.concat((pd.read_csv(f, sep='\\t', header=0) for f in field_files), ignore_index=True)\n",
    "\n",
    "col_type = {\n",
    "        'Sequence': 'Int64',\n",
    "        'Integer': 'Int64',\n",
    "        'Categorical (single)': 'str',\n",
    "        'Categorical (multiple)': 'str',\n",
    "        'Continuous': 'float',\n",
    "        'Text': 'str',\n",
    "        'Date': 'str',\n",
    "        'Time': 'str',\n",
    "        'Compound': 'str',\n",
    "        'Binary object': 'str',\n",
    "        'Records': 'str',\n",
    "        'Curve': 'str'\n",
    "}\n",
    "\n",
    "f['py_type'] = [col_type[t] for t in f['ukb_type']]\n",
    "\n",
    "df = pd.read_csv(prj_dir / 'data/pheno/crf.pa.csv',\n",
    "                 dtype=dict(zip(f['field'], f['py_type'])))\n",
    "\n",
    "# Update columns to descriptive names\n",
    "fields = df.columns.tolist()\n",
    "f = f.loc[f.field.isin(fields), ].drop_duplicates()\n",
    "df.columns = np.ravel([f.loc[f.field == col, 'name'].tolist() for col in df.columns]).tolist()\n",
    "\n",
    "# Clean up names\n",
    "char_to_replace = {'(': '', ')': '', '/': '_'}\n",
    "df.columns = [name.translate(str.maketrans(char_to_replace)) for name in df.columns.to_list()]"
   ]
  },
  {
   "cell_type": "markdown",
   "metadata": {},
   "source": [
    "## CRF phenotype QC\n",
    "\n",
    "Read fam, sample, and sqc files for genetic metadata sample QC"
   ]
  },
  {
   "cell_type": "code",
   "execution_count": 4,
   "metadata": {},
   "outputs": [],
   "source": [
    "fam_col_names = ['fid', 'iid', 'pid', 'mid', 'sex', 'phe']\n",
    "fam = pd.read_csv(app_dir / 'genotyped/wukb13427_cal_chr22_v2_s488264.fam',\n",
    "                  sep=' ', header=None, names=fam_col_names)\n",
    "\n",
    "sample_col_names = ['fid', 'iid', 'miss', 'sex']\n",
    "sample_file = pd.read_csv(app_dir / 'imputed/wukb13427_imp_chr22_v3_s487296.sample',\n",
    "                          sep=' ', header=None, names=sample_col_names,\n",
    "                          skiprows=[0, 1])\n",
    "\n",
    "sqc_col_names = list(\n",
    "    ['x1', 'x2', 'genotyping.array', 'Batch', 'Plate.Name', 'Well', 'Cluster.CR', 'dQC', 'Internal.Pico..ng.uL.',\n",
    "     'Submitted.Gender', 'Inferred.Gender', 'X.intensity', 'Y.intensity', 'Submitted.Plate.Name', 'Submitted.Well',\n",
    "     'sample.qc.missing.rate', 'heterozygosity', 'heterozygosity.pc.corrected', 'het.missing.outliers',\n",
    "     'putative.sex.chromosome.aneuploidy', 'in.kinship.table', 'excluded.from.kinship.inference', 'excess.relatives',\n",
    "     'in.white.British.ancestry.subset', 'used.in.pca.calculation'] +\n",
    "    [f'{a}{b}' for a, b in zip(['pc'] * 40, list(range(1, 40 + 1)))] + # 26:65\n",
    "    ['in.Phasing.Input.chr1_22', 'in.Phasing.Input.chrX', 'in.Phasing.Input.chrXY'])\n",
    "\n",
    "sqc_col_names = [col_name.lower().replace('.', '_') for col_name in sqc_col_names] \n",
    "sqc = pd.read_csv(app_dir / 'imputed/ukb_sqc_v2.txt', sep=' ', header=None, names=sqc_col_names)\n",
    "\n",
    "# Identify EUR sample by 4-means clustering\n",
    "model = KMeans(4).fit(sqc.loc[:, ['pc1', 'pc2']])\n",
    "sqc['pop'] = model.labels_\n",
    "sqc = sqc[['genotyping_array', 'submitted_gender', 'inferred_gender',\n",
    "           'het_missing_outliers', 'putative_sex_chromosome_aneuploidy',\n",
    "           'excess_relatives', 'pop']]\n",
    "\n",
    "# BOLT-LMM requires sample to be in both fam and sample files\n",
    "meta = pd.merge(sample_file[['fid', 'iid']], fam.join(sqc), on=('fid', 'iid'), how='inner')\n",
    "\n",
    "df = pd.merge(df, meta, left_on='eid', right_on='fid', how='inner')"
   ]
  },
  {
   "cell_type": "markdown",
   "metadata": {},
   "source": [
    "Filter and select variables"
   ]
  },
  {
   "cell_type": "code",
   "execution_count": 5,
   "metadata": {},
   "outputs": [],
   "source": [
    "df = df[(\n",
    "    (df['submitted_gender'] == df['inferred_gender']) &\n",
    "    (df['excess_relatives'] == 0) &\n",
    "    (df['putative_sex_chromosome_aneuploidy'] == 0) &\n",
    "    (df['het_missing_outliers'] == 0) &\n",
    "    (df['pop'] == df['pop'].value_counts().idxmax())\n",
    ")]\n",
    "\n",
    "print(df['program_category_f6024_0_0'].value_counts())\n",
    "print(df['program_category_f6024_1_0'].value_counts())"
   ]
  },
  {
   "cell_type": "markdown",
   "metadata": {},
   "source": [
    "### Risk category and protocol\n",
    "\n",
    "|code|risk|category|ramp|\n",
    "|----|----|--------|----|\n",
    "|1|minimal\t|Category 1, cycle rising to 50% level|high|\n",
    "|2|small\t|Category 2, cycle rising to 35% level|low|\n",
    "|3|medium\t|Category 3, cycle at constant level|flat|\n",
    "\n",
    "Test ramps 'flat' (6 mins constant WR), 'low' (2 min constant WR, 4 mins ramped WR), and 'high' (2 min constant WR, 4 mins ramped WR) as described in __Figure 1__ CRF validation paper."
   ]
  },
  {
   "cell_type": "code",
   "execution_count": 6,
   "metadata": {},
   "outputs": [],
   "source": [
    "risk = {'1': 'minimal', '2': 'small', '3': 'medium', '4': 'high', '-1': None}\n",
    "\n",
    "df['program_category_f6024_0_0'] = df['program_category_f6024_0_0'].replace(risk)\n",
    "df['program_category_f6024_1_0'] = df['program_category_f6024_1_0'].replace(risk)\n",
    "\n",
    "crf_0 = df.loc[df.program_category_f6024_0_0.isin(['minimal', 'small', 'medium']), :]\n",
    "crf_1 = df.loc[df.program_category_f6024_1_0.isin(['minimal', 'small', 'medium']), :]\n",
    "\n",
    "print(crf_0['program_category_f6024_0_0'].value_counts(), '\\n')\n",
    "print(crf_1['program_category_f6024_1_0'].value_counts(), '\\n')"
   ]
  },
  {
   "cell_type": "code",
   "execution_count": null,
   "metadata": {},
   "outputs": [],
   "source": [
    "print('Initial assessment with assessment centre age:')\n",
    "print(crf_0.dropna(subset=['age_when_attended_assessment_centre_f21003_0_0'])['program_category_f6024_0_0'].value_counts(), '\\n')\n",
    "\n",
    "print('First repeat assessment with assessment centre age:')\n",
    "print(crf_1.dropna(subset=['age_when_attended_assessment_centre_f21003_1_0'])['program_category_f6024_1_0'].value_counts(), '\\n')\n",
    "\n",
    "crf_0 = crf_0.dropna(subset=['age_when_attended_assessment_centre_f21003_0_0'])\n",
    "crf_1 = crf_1.dropna(subset=['age_when_attended_assessment_centre_f21003_1_0'])"
   ]
  },
  {
   "cell_type": "markdown",
   "metadata": {},
   "source": [
    "- for 'minimal' and 'small' risk, identify the 4-min ramp phase (above 2 min constant phase = 30 watts for women, 40 watts for men)\n",
    "    - apply butterworth filter and modelling to ramp phase for minimal (rising to 50%) and small risk (rising to 35%)\n",
    "\n",
    "- for 'medium', apply butterworth filter and modelling to full 6 min (constant)\n",
    "\n",
    "- NB. resting pulse rate (f95, f102 measured during blood pressure measurement), not available.\n",
    "\n",
    "- take resting heart rate from average of rest period?\n",
    "\n",
    ">__Kim et al.__:\n",
    ">\n",
    ">In addition _\\[to excluding 'high' risk and those ineligible for ECG\\]_, we implemented\n",
    ">\n",
    ">- data cleaning and quality control procedures (__S3 Material in Appendix__).\n",
    ">- Linear regression was performed to predict workload from heart rate (__S4 Material in Appendix__); \n",
    ">- the established linear relationship was then extrapolated to age-predicted maximum heart rate to estimate an individual’s maximal power (watts) as an indicator of CRF.\n",
    ">- Consolidation procedures were applied to obtain the most robust CRF estimate (__S5 Material in Appendix__).\n",
    ">- To account for differences in body size, CRF was expressed as maximal power per fat-free mass (kg) (i.e. body mass–fat mass), the latter measured using bio-impedance analysis (Tanita BC-418MA).\n",
    ">- Individuals with heart rate missing for >2 min (50%) during the ramp phase (n = 116) or with maximum power of 0 (n = 156; a sign of the cycle ergometer/ECG acquisition system malfunctioning) or outliers with >20 watts/fat-free mass (n = 41) were excluded from analyses."
   ]
  },
  {
   "cell_type": "code",
   "execution_count": 8,
   "metadata": {},
   "outputs": [
    {
     "name": "stdout",
     "output_type": "stream",
     "text": [
      "Initial assessment:\n",
      "minimal    50809\n",
      "small       7700\n",
      "medium      1885\n",
      "Name: program_category_f6024_0_0, dtype: int64 \n",
      "\n",
      "First repeat assessment:\n",
      "minimal    14564\n",
      "small       2374\n",
      "medium       520\n",
      "Name: program_category_f6024_1_0, dtype: int64\n"
     ]
    }
   ],
   "source": [
    "crf_test_method = {'1': 'Bicycle', '2': 'Resting only', '6': 'Not performed - equipment failure',\n",
    "'7': 'Not performed - other reason'}\n",
    "\n",
    "# Instance 0\n",
    "crf_0 = crf_0.replace({'ecg_bike_method_for_fitness_test_f6019_0_0': crf_test_method})\n",
    "crf_0 = crf_0.loc[crf_0['ecg_bike_method_for_fitness_test_f6019_0_0'].isin(['Bicycle']), :]\n",
    "\n",
    "print('Initial assessment:')\n",
    "print(crf_0['program_category_f6024_0_0'].value_counts(), '\\n')\n",
    "\n",
    "\n",
    "# Instance 1\n",
    "crf_1 = crf_1.replace({'ecg_bike_method_for_fitness_test_f6019_1_0': crf_test_method})\n",
    "crf_1 = crf_1.loc[crf_1['ecg_bike_method_for_fitness_test_f6019_1_0'].isin(['Bicycle']), :]\n",
    "\n",
    "print('First repeat assessment:')\n",
    "print(crf_1['program_category_f6024_1_0'].value_counts())"
   ]
  },
  {
   "cell_type": "markdown",
   "metadata": {},
   "source": [
    "## Test_0 sample\n",
    "\n",
    "Small participant sample to test modelling"
   ]
  },
  {
   "cell_type": "code",
   "execution_count": 9,
   "metadata": {},
   "outputs": [],
   "source": [
    "# crf_0 = crf_0.sample(1000)\n",
    "# crf_1 = crf_1.sample(1000)"
   ]
  },
  {
   "cell_type": "markdown",
   "metadata": {},
   "source": [
    "Make repeated cycle test measures long"
   ]
  },
  {
   "cell_type": "code",
   "execution_count": 10,
   "metadata": {},
   "outputs": [],
   "source": [
    "def melt_cycle_ramp_test(wide, name):\n",
    "    \"\"\"\n",
    "    Make wide cycle measures long.\n",
    "    \n",
    "    wide : pd.DataFrame\n",
    "        Repeated cycle measures in \"wide\" format (i.e., one per column).\n",
    "    name : str\n",
    "        Name of the repeated measure.\n",
    "    \"\"\"\n",
    "    df = wide.stack().reset_index()\n",
    "    df.columns = ['eid', 'measure_trend', name]\n",
    "    df['trend'] = df.measure_trend.str.split('_').str[-1].astype('int64')\n",
    "    df = df.drop('measure_trend', axis='columns')\n",
    "    df = df.set_index(['eid', 'trend']).sort_index()\n",
    "    return df"
   ]
  },
  {
   "cell_type": "code",
   "execution_count": 11,
   "metadata": {},
   "outputs": [],
   "source": [
    "# Instance 0\n",
    "crf_0 = crf_0.set_index('eid')\n",
    "\n",
    "phase_0, speed_0, heart_0, load_0 = map(\n",
    "    lambda f: crf_0.filter(regex=f, axis=1),\n",
    "    ['^ecg_trend_phase_name_f5987_0',\n",
    "     '^bicycle_speed_f5985_0',\n",
    "     '^ecg_heart_rate_f5983_0',\n",
    "     '^ecg_load_f5984_0'])\n",
    "\n",
    "phase_long_0, speed_long_0, heart_long_0, load_long_0 = map(\n",
    "    lambda x, y: melt_cycle_ramp_test(x, y),\n",
    "    [phase_0, speed_0, heart_0, load_0],\n",
    "    ['phase', 'speed', 'heart', 'load'])\n",
    "\n",
    "cycle_long_0 = functools.reduce(\n",
    "    lambda x, y: x.merge(y, how='outer', left_index=True, right_index=True),\n",
    "    [phase_long_0, speed_long_0, heart_long_0, load_long_0])\n",
    "\n",
    "\n",
    "# Instance 1\n",
    "crf_1 = crf_1.set_index('eid')\n",
    "\n",
    "phase_1, speed_1, heart_1, load_1 = map(\n",
    "    lambda f: crf_1.filter(regex=f, axis=1),\n",
    "    ['^ecg_trend_phase_name_f5987_1',\n",
    "     '^bicycle_speed_f5985_1',\n",
    "     '^ecg_heart_rate_f5983_1',\n",
    "     '^ecg_load_f5984_1'])\n",
    "\n",
    "phase_long_1, speed_long_1, heart_long_1, load_long_1 = map(\n",
    "    lambda x, y: melt_cycle_ramp_test(x, y),\n",
    "    [phase_1, speed_1, heart_1, load_1],\n",
    "    ['phase', 'speed', 'heart', 'load'])\n",
    "\n",
    "cycle_long_1 = functools.reduce(\n",
    "    lambda x, y: x.merge(y, how='outer', left_index=True, right_index=True),\n",
    "    [phase_long_1, speed_long_1, heart_long_1, load_long_1])"
   ]
  },
  {
   "cell_type": "markdown",
   "metadata": {},
   "source": [
    "Plot work rate flat, low and high ramp"
   ]
  },
  {
   "cell_type": "code",
   "execution_count": 12,
   "metadata": {},
   "outputs": [],
   "source": [
    "# plt.figure()\n",
    "# fig = cycle_long_0.reset_index().plot(x='trend', y='load', linewidth=0.5, legend=None)\n",
    "# fig.set(ylabel='load')"
   ]
  },
  {
   "cell_type": "markdown",
   "metadata": {},
   "source": [
    "Select 'Exercise' phase and speed (cadence) in range 35 - 125 RPM"
   ]
  },
  {
   "cell_type": "code",
   "execution_count": 13,
   "metadata": {},
   "outputs": [
    {
     "name": "stdout",
     "output_type": "stream",
     "text": [
      "Initial assessment:\n",
      "60070 \n",
      "\n",
      "First repeat assessment:\n",
      "17409 \n",
      "\n"
     ]
    }
   ],
   "source": [
    "# Instance 0\n",
    "exercise_long_0 = (cycle_long_0.loc[\n",
    "    (cycle_long_0['phase'] == 'Exercise') &\n",
    "    (cycle_long_0['speed'] >= 35) &\n",
    "    (cycle_long_0['speed'] <= 125) &\n",
    "    (cycle_long_0['load'] >= 30)].reset_index())\n",
    "\n",
    "pretest_long_0 = (cycle_long_0.loc[\n",
    "    (cycle_long_0['phase'] == 'Pretest') &\n",
    "    (cycle_long_0['speed'] == 0)].reset_index())\n",
    "    \n",
    "print('Initial assessment:')\n",
    "print(exercise_long_0['eid'].nunique(), '\\n')\n",
    "\n",
    "\n",
    "# Instance 1\n",
    "exercise_long_1 = (cycle_long_1.loc[\n",
    "    (cycle_long_1['phase'] == 'Exercise') &\n",
    "    (cycle_long_1['speed'] >= 35) &\n",
    "    (cycle_long_1['speed'] <= 125) &\n",
    "    (cycle_long_1['load'] >= 30)].reset_index())\n",
    "\n",
    "pretest_long_1 = (cycle_long_1.loc[\n",
    "    (cycle_long_1['phase'] == 'Pretest') &\n",
    "    (cycle_long_1['speed'] == 0)].reset_index())\n",
    "    \n",
    "print('First repeat assessment:')\n",
    "print(exercise_long_1['eid'].nunique(), '\\n')"
   ]
  },
  {
   "cell_type": "markdown",
   "metadata": {
    "tags": []
   },
   "source": [
    "## Ramp\n",
    "\n",
    "Include sex and risk category\n",
    "\n",
    "- keep only 'ramp' for risk categories with a ramp ('minimal' and 'small'), i.e., females > 30 watts, males > 40 watts\n",
    "- missing HR: Drop? Impute (backfill)?\n",
    "- compare fit of linear model of HR (distribution of $R^2$) across flat and ramped phase combined (previous approach)\n"
   ]
  },
  {
   "cell_type": "code",
   "execution_count": 14,
   "metadata": {},
   "outputs": [
    {
     "name": "stdout",
     "output_type": "stream",
     "text": [
      "Initial assessment:\n",
      "Full (constant + ramp, for categories with a ramp): 58538 \n",
      "\n",
      "Ramp only (for categories with a ramp): 57604 \n",
      "\n",
      "First repeat assessment:\n",
      "Full (constant + ramp, for categories with a ramp): 17007 \n",
      "\n",
      "Ramp only (for categories with a ramp): 16655 \n",
      "\n"
     ]
    }
   ],
   "source": [
    "df['eid'] = df['eid'].astype(int)\n",
    "\n",
    "\n",
    "# Instance 0\n",
    "exercise_long_0 = (exercise_long_0\n",
    "                   .set_index('eid')\n",
    "                   .join(df[['eid', 'inferred_gender', 'program_category_f6024_0_0']].set_index('eid'))\n",
    "                   .rename({'inferred_gender': 'gender', 'program_category_f6024_0_0': 'risk'}, axis='columns')\n",
    "                   .reset_index())\n",
    "\n",
    "exercise_full_0 = (exercise_long_0\n",
    "                   .set_index('eid')\n",
    "                   .groupby('eid')\n",
    "                   .filter(lambda x: x['heart'].dropna(axis='index').shape[0] > 20)\n",
    "                   .reset_index())\n",
    "\n",
    "exercise_ramp_0 = (exercise_long_0\n",
    "                   .drop(exercise_long_0[(\n",
    "                       ((exercise_long_0['risk']=='minimal') | (exercise_long_0['risk'] == 'small')) &\n",
    "                       (\n",
    "                           ((exercise_long_0['gender']=='F') & (exercise_long_0['load'] <= 30)) |\n",
    "                           ((exercise_long_0['gender']=='M') & (exercise_long_0['load'] <= 40))\n",
    "                       ))].index)\n",
    "                   .set_index('eid')\n",
    "                   .groupby('eid')\n",
    "                   .filter(lambda x: x['heart'].dropna(axis='index').shape[0] > 20)\n",
    "                   .reset_index())\n",
    "\n",
    "print('Initial assessment:')\n",
    "print('Full (constant + ramp, for categories with a ramp):', exercise_full_0['eid'].nunique(), '\\n')\n",
    "print('Ramp only (for categories with a ramp):', exercise_ramp_0['eid'].nunique(), '\\n')\n",
    "\n",
    "\n",
    "# Instance 1\n",
    "exercise_long_1 = (exercise_long_1\n",
    "                   .set_index('eid')\n",
    "                   .join(df[['eid', 'inferred_gender', 'program_category_f6024_1_0']].set_index('eid'))\n",
    "                   .rename({'inferred_gender': 'gender', 'program_category_f6024_1_0': 'risk'}, axis='columns')\n",
    "                   .reset_index())\n",
    "\n",
    "exercise_full_1 = (exercise_long_1\n",
    "                   .set_index('eid')\n",
    "                   .groupby('eid')\n",
    "                   .filter(lambda x: x['heart'].dropna(axis='index').shape[0] > 20)\n",
    "                   .reset_index())\n",
    "\n",
    "exercise_ramp_1 = (exercise_long_1\n",
    "                   .drop(exercise_long_1[(\n",
    "                       ((exercise_long_1['risk']=='minimal') | (exercise_long_1['risk'] == 'small')) &\n",
    "                       (\n",
    "                           ((exercise_long_1['gender']=='F') & (exercise_long_1['load'] <= 30)) |\n",
    "                           ((exercise_long_1['gender']=='M') & (exercise_long_1['load'] <= 40))\n",
    "                       ))].index)\n",
    "                   .set_index('eid')\n",
    "                   .groupby('eid')\n",
    "                   .filter(lambda x: x['heart'].dropna(axis='index').shape[0] > 20)\n",
    "                   .reset_index())\n",
    "\n",
    "print('First repeat assessment:')\n",
    "print('Full (constant + ramp, for categories with a ramp):', exercise_full_1['eid'].nunique(), '\\n')\n",
    "print('Ramp only (for categories with a ramp):', exercise_ramp_1['eid'].nunique(), '\\n')"
   ]
  },
  {
   "cell_type": "markdown",
   "metadata": {},
   "source": [
    "## Signal processing\n",
    "\n",
    "Heart rate signal processing with Butterworth low-pass filter"
   ]
  },
  {
   "cell_type": "code",
   "execution_count": 15,
   "metadata": {},
   "outputs": [],
   "source": [
    "def butter_lowpass_filt(x, N=3, Wn=0.1):\n",
    "    \"\"\"\n",
    "    x : pd.DataFrame\n",
    "        With heart rate (in BPM) in column 'heart'.\n",
    "    N, Wn : int, float\n",
    "        signal.butter parameters\n",
    "    Returns\n",
    "    -------\n",
    "    A pd.Dataframe with an additional column containing Butterworth filtered BPM\n",
    "    \"\"\"\n",
    "    b, a = signal.butter(N=N, Wn=Wn)\n",
    "    x_filtered = signal.filtfilt(b, a, x['heart'].values)\n",
    "    return x.assign(heart_filt = x_filtered)"
   ]
  },
  {
   "cell_type": "code",
   "execution_count": 16,
   "metadata": {},
   "outputs": [],
   "source": [
    "# Instance 0\n",
    "exercise_full_processed_0 = (\n",
    "    exercise_full_0.loc[exercise_full_0['heart'].dropna(axis='index').index]\n",
    "    .groupby('eid')\n",
    "    .apply(lambda x: butter_lowpass_filt(x))\n",
    "    .set_index(['eid','trend']))\n",
    "\n",
    "exercise_ramp_processed_0 = (\n",
    "    exercise_ramp_0.loc[exercise_ramp_0['heart'].dropna(axis='index').index]\n",
    "    .groupby('eid')\n",
    "    .apply(lambda x: butter_lowpass_filt(x))\n",
    "    .set_index(['eid','trend']))\n",
    "\n",
    "exercise_full_processed_0 = exercise_full_processed_0.astype({'heart_filt': float})\n",
    "exercise_ramp_processed_0 = exercise_ramp_processed_0.astype({'heart_filt': float})\n",
    "\n",
    "\n",
    "# Instance 1\n",
    "exercise_full_processed_1 = (\n",
    "    exercise_full_1.loc[exercise_full_1['heart'].dropna(axis='index').index]\n",
    "    .groupby('eid')\n",
    "    .apply(lambda x: butter_lowpass_filt(x))\n",
    "    .set_index(['eid','trend']))\n",
    "\n",
    "exercise_ramp_processed_1 = (\n",
    "    exercise_ramp_1.loc[exercise_ramp_1['heart'].dropna(axis='index').index]\n",
    "    .groupby('eid')\n",
    "    .apply(lambda x: butter_lowpass_filt(x))\n",
    "    .set_index(['eid','trend']))\n",
    "\n",
    "exercise_full_processed_1 = exercise_full_processed_1.astype({'heart_filt': float})\n",
    "exercise_ramp_processed_1 = exercise_ramp_processed_1.astype({'heart_filt': float})"
   ]
  },
  {
   "cell_type": "markdown",
   "metadata": {},
   "source": [
    "Count the number of measurements (trend entries) to include as covariate."
   ]
  },
  {
   "cell_type": "code",
   "execution_count": 17,
   "metadata": {},
   "outputs": [],
   "source": [
    "# trend count, i.e., number of observations\n",
    "\n",
    "# Instance 0\n",
    "exercise_ramp_trend_0 = (exercise_ramp_processed_0\n",
    "                         .reset_index()\n",
    "                         .groupby('eid')\n",
    "                         .apply(len))\n",
    "\n",
    "exercise_ramp_trend_0 = pd.DataFrame({'trend_0': exercise_ramp_trend_0})\n",
    "\n",
    "\n",
    "#Instance 1\n",
    "exercise_ramp_trend_1 = (exercise_ramp_processed_1\n",
    "                         .reset_index()\n",
    "                         .groupby('eid')\n",
    "                         .apply(len))\n",
    "\n",
    "exercise_ramp_trend_1 = pd.DataFrame({'trend_1': exercise_ramp_trend_1})"
   ]
  },
  {
   "cell_type": "markdown",
   "metadata": {
    "tags": []
   },
   "source": [
    "## Calculate CRF phenotypes\n",
    "\n",
    "Fit a linear models:\n",
    "\n",
    "- CRF-slope from heart rate ~ trend\n",
    "- CRF-vo2max work rate ~ heart rate, to predict workrate at age estimated max heart rate\n",
    "\n",
    "Include age, age-estimated max heart rate, sex, category, weight"
   ]
  },
  {
   "cell_type": "code",
   "execution_count": 18,
   "metadata": {},
   "outputs": [],
   "source": [
    "# Instance 0\n",
    "exercise_ramp_processed_0 = (exercise_ramp_processed_0\n",
    "                             .reset_index()\n",
    "                             .set_index('eid')\n",
    "                             .join(df.set_index('eid')[['age_when_attended_assessment_centre_f21003_0_0', 'weight_f21002_0_0']]))\n",
    "\n",
    "\n",
    "# Instance 1\n",
    "exercise_ramp_processed_1 = (exercise_ramp_processed_1\n",
    "                             .reset_index()\n",
    "                             .set_index('eid')\n",
    "                             .join(df.set_index('eid')[['age_when_attended_assessment_centre_f21003_1_0', 'weight_f21002_1_0']]))"
   ]
  },
  {
   "cell_type": "markdown",
   "metadata": {},
   "source": [
    "### CRF-slope"
   ]
  },
  {
   "cell_type": "code",
   "execution_count": 19,
   "metadata": {},
   "outputs": [],
   "source": [
    "import statsmodels.formula.api as smf\n",
    "\n",
    "\n",
    "def ols_cycle(data, model):\n",
    "    \"\"\"Fits linear model and returns slope\n",
    "    \n",
    "    model: y ~ x\n",
    "    \"\"\"\n",
    "    lm = smf.ols(model, data=data).fit()\n",
    "    return lm\n",
    "\n",
    "\n",
    "def sm_rsq(data, model):\n",
    "    \"\"\"Get slope of rsq ols\n",
    "    \n",
    "    model: y ~ x\n",
    "    \"\"\"\n",
    "    rsq = ols_cycle(data, model).rsquared\n",
    "    return rsq\n",
    "\n",
    "\n",
    "def sm_slope(data, model, x_coef='trend'):\n",
    "    \"\"\"Get slope of sm ols\n",
    "    \n",
    "    model: y ~ x\n",
    "    \"\"\"\n",
    "    slope = ols_cycle(data, model).params[x_coef]\n",
    "    return slope"
   ]
  },
  {
   "cell_type": "markdown",
   "metadata": {},
   "source": [
    "Set slope value $<= 0$ to missing"
   ]
  },
  {
   "cell_type": "code",
   "execution_count": 20,
   "metadata": {
    "tags": []
   },
   "outputs": [],
   "source": [
    "# Instance 0\n",
    "exercise_ramp_slope_0 = (exercise_ramp_processed_0\n",
    "                         .reset_index()\n",
    "                         .groupby('eid')\n",
    "                         .apply(lambda x: sm_slope(x, model='heart_filt ~ trend')))\n",
    "\n",
    "exercise_ramp_slope_0 = pd.DataFrame({'s_0': exercise_ramp_slope_0})\n",
    "exercise_ramp_slope_0['slope_0'] = np.where(exercise_ramp_slope_0['s_0'] <= 0, np.nan, exercise_ramp_slope_0['s_0'])\n",
    "exercise_ramp_slope_0 = exercise_ramp_slope_0[['slope_0']]\n",
    "\n",
    "# Instance 1\n",
    "exercise_ramp_slope_1 = (exercise_ramp_processed_1\n",
    "                         .reset_index()\n",
    "                         .groupby('eid')\n",
    "                         .apply(lambda x: sm_slope(x, model='heart_filt ~ trend')))\n",
    "\n",
    "exercise_ramp_slope_1 = pd.DataFrame({'s_1': exercise_ramp_slope_1})\n",
    "exercise_ramp_slope_1['slope_1'] = np.where(exercise_ramp_slope_1['s_1'] <= 0, np.nan, exercise_ramp_slope_1['s_1'])\n",
    "exercise_ramp_slope_1 = exercise_ramp_slope_1[['slope_1']]"
   ]
  },
  {
   "cell_type": "markdown",
   "metadata": {},
   "source": [
    "### CRF-vo2max\n",
    "\n",
    "> Youngwon et al.: __CRF was expressed as maximal power per fat-free mass (kg)__ (i.e. body mass–fat mass) (...) Individuals with heart rate missing for 2 min (50%) during the ramp phase (n = 116) or with maximum power of 0 (n = 156; a sign of the cycle ergometer/ECG acquisition system malfunctioning) or outliers with 20 watts/fat-free mass (n = 40) were excluded from analyses.\n",
    "\n",
    "ACSM energy expenditure from steady state test:\n",
    "\n",
    "$vo_2max = \\frac{10.8 x W}{K} + 7$\n",
    "\n",
    "_Where_\n",
    "- $W$ is maximum workrate in $watts$ (power?), extrapolated from the linear model $work rate = f(heart rate)$\n",
    "- $K$ is weight in $kg$\n",
    "- metric is $watts \\cdot kg^{-1}$\n",
    "\n",
    "\n",
    "Predicted WR at age-estimated HR max is set to missing where $<= 0$\n"
   ]
  },
  {
   "cell_type": "code",
   "execution_count": 21,
   "metadata": {},
   "outputs": [],
   "source": [
    "def vo2max_cycle(data, model, age, weight):\n",
    "    \"\"\"Get vo2max from work rate ~ heart rate\n",
    "    \n",
    "    data: long-format dataframe of cycle ramp test measures\n",
    "    model: formula e.g., y ~ x\n",
    "    age: name of the age variable\n",
    "    weight: name of the weight variable\n",
    "    \"\"\"\n",
    "    try:\n",
    "        df = data.dropna(subset=['load', 'heart_filt', age, weight])\n",
    "        hrmax = 208 - (0.7 * df[age].iloc[0])\n",
    "        lm = ols_cycle(df, model)\n",
    "        wrmax = lm.predict({'heart_filt': [hrmax]})\n",
    "        wrmax = np.nan if (wrmax.iloc[0] <= 0) else wrmax.iloc[0]\n",
    "        vo2max = wrmax / df[weight].iloc[0]\n",
    "        return vo2max\n",
    "    except IndexError:\n",
    "        return np.nan"
   ]
  },
  {
   "cell_type": "code",
   "execution_count": 33,
   "metadata": {},
   "outputs": [],
   "source": [
    "# convert work rate to int for modelling\n",
    "\n",
    "# Instance 0\n",
    "exercise_ramp_processed_0 = exercise_ramp_processed_0.astype({'load': int})\n",
    "\n",
    "exercise_ramp_vo2max_0 = (\n",
    "    exercise_ramp_processed_0\n",
    "    .reset_index()\n",
    "    .groupby('eid')\n",
    "    .apply(lambda x: vo2max_cycle(x, model='load ~ heart_filt', age='age_when_attended_assessment_centre_f21003_0_0', weight='weight_f21002_0_0'))\n",
    ")\n",
    "\n",
    "\n",
    "# Instance 1\n",
    "exercise_ramp_processed_1 = exercise_ramp_processed_1.astype({'load': int})\n",
    "\n",
    "exercise_ramp_vo2max_1 = (\n",
    "    exercise_ramp_processed_1\n",
    "    .reset_index()\n",
    "    .groupby('eid')\n",
    "    .apply(lambda x: vo2max_cycle(x, model='load ~ heart_filt', age='age_when_attended_assessment_centre_f21003_1_0', weight='weight_f21002_1_0'))\n",
    ")"
   ]
  },
  {
   "cell_type": "code",
   "execution_count": 34,
   "metadata": {},
   "outputs": [],
   "source": [
    "exercise_ramp_vo2max_0 = pd.DataFrame({'vo2max_0': exercise_ramp_vo2max_0})\n",
    "exercise_ramp_vo2max_1 = pd.DataFrame({'vo2max_1': exercise_ramp_vo2max_1})"
   ]
  },
  {
   "cell_type": "code",
   "execution_count": 35,
   "metadata": {},
   "outputs": [],
   "source": [
    "# sd_n = 6\n",
    "# sd_out = np.mean(exercise_ramp_vo2max_0['vo2max']) + (np.std(exercise_ramp_vo2max_0['vo2max']) * sd_n)\n",
    "\n",
    "# exercise_ramp_vo2max_0['vo2max'].plot.hist(bins=50, color='grey')\n",
    "# plt.axvline(x=sd_out, color='red')"
   ]
  },
  {
   "cell_type": "markdown",
   "metadata": {},
   "source": [
    "Combine instances"
   ]
  },
  {
   "cell_type": "code",
   "execution_count": 37,
   "metadata": {},
   "outputs": [],
   "source": [
    "dfs_0 = [exercise_ramp_trend_0,\n",
    "         exercise_ramp_slope_0,\n",
    "         exercise_ramp_vo2max_0]\n",
    "\n",
    "fitness_0 = reduce(lambda left,right: left.join(right, how='outer'), dfs_0)\n",
    "\n",
    "\n",
    "dfs_1 = [exercise_ramp_trend_1,\n",
    "         exercise_ramp_slope_1,\n",
    "         exercise_ramp_vo2max_1]\n",
    "\n",
    "fitness_1 = reduce(lambda left,right: left.join(right, how='outer'), dfs_1)\n",
    "\n",
    "fitness = fitness_0.dropna().join(fitness_1.dropna(), how='outer')\n",
    "\n",
    "if all(\n",
    "    (fitness['slope_0'].isnull() == fitness['vo2max_0'].isnull()) &\n",
    "    (fitness['slope_1'].isnull() == fitness['vo2max_1'].isnull())):\n",
    "        fitness['slope'] = fitness['slope_0'].fillna(fitness['slope_1'])\n",
    "        fitness['vo2max'] = fitness['vo2max_0'].fillna(fitness['vo2max_1'])\n",
    "        fitness['trend'] = fitness['trend_0'].fillna(fitness['trend_1'])\n",
    "        fitness['instance'] = fitness['slope_0'].isnull().replace({True: 1, False: 0})\n",
    "\n",
    "fitness = fitness[['slope', 'vo2max', 'instance', 'trend']]"
   ]
  },
  {
   "source": [
    "Correlation between vo2max and slope and min HR as a proxy for resting HR"
   ],
   "cell_type": "markdown",
   "metadata": {}
  },
  {
   "cell_type": "code",
   "execution_count": null,
   "metadata": {},
   "outputs": [],
   "source": [
    "heart_filt_min = (exercise_full_processed_0\n",
    "                  .groupby('eid')[['heart_filt']]\n",
    "                  .head(n=1)\n",
    "                  .rename({'heart_filt': 'heart_min'}, axis='columns')\n",
    "                  .reset_index(level=1)\n",
    "                  .drop('trend', axis='columns')\n",
    "                  .join(fitness))\n",
    "\n",
    "pearsonr(\n",
    "    heart_filt_min[['heart_min', 'vo2max']].dropna().heart_min,\n",
    "    heart_filt_min[['heart_min', 'vo2max']].dropna().vo2max)\n",
    "\n",
    "pearsonr(\n",
    "    heart_filt_min[['heart_min', 'slope']].dropna().heart_min,\n",
    "    heart_filt_min[['heart_min', 'slope']].dropna().slope)"
   ]
  },
  {
   "cell_type": "markdown",
   "metadata": {},
   "source": [
    "Include covariates"
   ]
  },
  {
   "cell_type": "code",
   "execution_count": 38,
   "metadata": {},
   "outputs": [],
   "source": [
    "fitness = fitness.join(df\n",
    "    .reset_index()\n",
    "    .set_index('eid')[[\n",
    "        'age_when_attended_assessment_centre_f21003_0_0',\n",
    "        'inferred_gender',\n",
    "        'body_mass_index_bmi_f21001_0_0',\n",
    "        'genotyping_array',\n",
    "        'uk_biobank_assessment_centre_f54_0_0',\n",
    "        'smoking_status_f20116_0_0',\n",
    "        'alcohol_drinker_status_f20117_0_0',\n",
    "        'program_category_f6024_0_0',\n",
    "        'age_when_attended_assessment_centre_f21003_1_0',\n",
    "        'body_mass_index_bmi_f21001_1_0',\n",
    "        'uk_biobank_assessment_centre_f54_1_0',\n",
    "        'smoking_status_f20116_1_0',\n",
    "        'alcohol_drinker_status_f20117_1_0',\n",
    "        'program_category_f6024_1_0',\n",
    "        'townsend_deprivation_index_at_recruitment_f189_0_0'\n",
    "    ]])\n",
    "\n",
    "fitness = fitness.rename({\n",
    "        'age_when_attended_assessment_centre_f21003_0_0': 'age_0',\n",
    "        'inferred_gender': 'sex',\n",
    "        'body_mass_index_bmi_f21001_0_0': 'bmi_0',\n",
    "        'genotyping_array': 'array',\n",
    "        'uk_biobank_assessment_centre_f54_0_0': 'centre_0',\n",
    "        'smoking_status_f20116_0_0': 'smoking_0',\n",
    "        'alcohol_drinker_status_f20117_0_0': 'alcohol_0',\n",
    "        'program_category_f6024_0_0': 'category_0',\n",
    "        'age_when_attended_assessment_centre_f21003_1_0': 'age_1',\n",
    "        'body_mass_index_bmi_f21001_1_0': 'bmi_1',\n",
    "        'uk_biobank_assessment_centre_f54_1_0': 'centre_1',\n",
    "        'smoking_status_f20116_1_0': 'smoking_1',\n",
    "        'alcohol_drinker_status_f20117_1_0': 'alcohol_1',\n",
    "        'program_category_f6024_1_0': 'category_1',\n",
    "        'townsend_deprivation_index_at_recruitment_f189_0_0': 'deprivation'}, axis='columns')"
   ]
  },
  {
   "cell_type": "markdown",
   "metadata": {},
   "source": [
    "Rename and recode variables"
   ]
  },
  {
   "cell_type": "code",
   "execution_count": 39,
   "metadata": {},
   "outputs": [],
   "source": [
    "fitness['age'] = np.where(fitness['instance'] == 0, fitness['age_0'], fitness['age_1'])\n",
    "fitness['bmi'] = np.where(fitness['instance'] == 0, fitness['bmi_0'], fitness['bmi_1'])\n",
    "fitness['centre'] = np.where(fitness['instance'] == 0, fitness['centre_0'], fitness['centre_1'])\n",
    "fitness['smoking'] = np.where(fitness['instance'] == 0, fitness['smoking_0'], fitness['smoking_1'])\n",
    "fitness['alcohol'] = np.where(fitness['instance'] == 0, fitness['alcohol_0'], fitness['alcohol_1'])\n",
    "fitness['category'] = np.where(fitness['instance'] == 0, fitness['category_0'], fitness['category_1'])\n",
    "\n",
    "fitness = fitness.reset_index()\n",
    "\n",
    "# BOLT-LMM pheno file requires header, with first 2 columns FID IID\n",
    "fitness['FID'] = fitness['eid']\n",
    "fitness = fitness.rename(columns={'eid': 'IID'})\n",
    "\n",
    "fitness = fitness.replace({'sex': {'M': '1', 'F': '2'},\n",
    "                           'array': {'UKBL': '0', 'UKBB': '1'},\n",
    "                           'smoking': {'-3': 'NA'},\n",
    "                           'alcohol': {'-3': 'NA'},\n",
    "                           'category': {'minimal': 1, 'small': 2, 'medium': 3}})\n",
    "\n",
    "fitness['mslope'] =  np.where(fitness['sex']=='1', fitness['slope'], np.nan)\n",
    "fitness['fslope'] =  np.where(fitness['sex']=='2', fitness['slope'], np.nan)\n",
    "\n",
    "fitness['mvo2max'] =  np.where(fitness['sex']=='1', fitness['vo2max'], np.nan)\n",
    "fitness['fvo2max'] =  np.where(fitness['sex']=='2', fitness['vo2max'], np.nan)\n",
    "\n",
    "slope = fitness[['FID', 'IID', 'slope', 'mslope', 'fslope', 'age', 'sex', 'array', 'centre', 'trend', 'instance', 'category', 'bmi', 'smoking', 'alcohol', 'deprivation']]\n",
    "vo2max = fitness[['FID', 'IID', 'vo2max', 'mvo2max', 'fvo2max', 'age', 'sex', 'array', 'centre', 'trend', 'instance', 'category', 'bmi', 'smoking', 'alcohol', 'deprivation']]"
   ]
  },
  {
   "cell_type": "code",
   "execution_count": 40,
   "metadata": {},
   "outputs": [
    {
     "data": {
      "text/plain": [
       "<AxesSubplot:ylabel='Density'>"
      ]
     },
     "execution_count": 40,
     "metadata": {},
     "output_type": "execute_result"
    },
    {
     "data": {
      "image/png": "[encoded data removed]",
      "text/plain": [
       "<Figure size 432x288 with 1 Axes>"
      ]
     },
     "metadata": {
      "needs_background": "light"
     },
     "output_type": "display_data"
    },
    {
     "data": {
      "image/png": "[encoded data removed]",
      "text/plain": [
       "<Figure size 432x288 with 1 Axes>"
      ]
     },
     "metadata": {
      "needs_background": "light"
     },
     "output_type": "display_data"
    }
   ],
   "source": [
    "slope[['slope', 'mslope', 'fslope']].plot.kde()\n",
    "vo2max[['vo2max', 'mvo2max', 'fvo2max']].plot.kde()"
   ]
  },
  {
   "cell_type": "markdown",
   "metadata": {},
   "source": [
    "Write phenotype/covariate and keep files"
   ]
  },
  {
   "cell_type": "code",
   "execution_count": 41,
   "metadata": {},
   "outputs": [],
   "source": [
    "# slope\n",
    "(slope[slope['slope'].notnull()][['FID', 'IID', 'slope', 'age', 'sex', 'array', 'centre', 'trend', 'instance', 'category', 'bmi', 'smoking', 'alcohol']]\n",
    " .to_csv('data/pheno/slope.pheno', sep=' ', header=True, index=False, na_rep='NA'))\n",
    "\n",
    "(slope[slope['mslope'].notnull()][['FID', 'IID', 'slope', 'age', 'sex', 'array', 'centre', 'trend', 'instance', 'category', 'bmi', 'smoking', 'alcohol']]\n",
    " .to_csv('data/pheno/slope.m.pheno', sep=' ', header=True, index=False, na_rep='NA'))\n",
    "\n",
    "(slope[slope['fslope'].notnull()][['FID', 'IID', 'slope', 'age', 'sex', 'array', 'centre', 'trend', 'instance', 'category', 'bmi', 'smoking', 'alcohol']]\n",
    " .to_csv('data/pheno/slope.f.pheno', sep=' ', header=True, index=False, na_rep='NA'))\n",
    "\n",
    "slope[['FID', 'IID']].to_csv('data/pheno/slope.keep', sep=' ', header=False, index=False)\n",
    "slope[slope['mslope'].notnull()][['FID', 'IID']].to_csv('data/pheno/slope.m.keep', sep=' ', header=False, index=False)\n",
    "slope[slope['fslope'].notnull()][['FID', 'IID']].to_csv('data/pheno/slope.f.keep', sep=' ', header=False, index=False)\n",
    "\n",
    "\n",
    "# vo2max\n",
    "(vo2max[vo2max['vo2max'].notnull()][['FID', 'IID', 'vo2max', 'age', 'sex', 'array', 'centre', 'trend', 'instance', 'category', 'bmi', 'smoking', 'alcohol']]\n",
    " .to_csv('data/pheno/vo2max.pheno', sep=' ', header=True, index=False, na_rep='NA'))\n",
    "\n",
    "(vo2max[vo2max['mvo2max'].notnull()][['FID', 'IID', 'vo2max', 'age', 'sex', 'array', 'centre', 'trend', 'instance', 'category', 'bmi', 'smoking', 'alcohol']]\n",
    " .to_csv('data/pheno/vo2max.m.pheno', sep=' ', header=True, index=False, na_rep='NA'))\n",
    "\n",
    "(vo2max[vo2max['fvo2max'].notnull()][['FID', 'IID', 'vo2max', 'age', 'sex', 'array', 'centre', 'trend', 'instance', 'category', 'bmi', 'smoking', 'alcohol']]\n",
    " .to_csv('data/pheno/vo2max.f.pheno', sep=' ', header=True, index=False, na_rep='NA'))\n",
    "\n",
    "vo2max[['FID', 'IID']].to_csv('data/pheno/vo2max.keep', sep=' ', header=False, index=False)\n",
    "vo2max[vo2max['mvo2max'].notnull()][['FID', 'IID']].to_csv('data/pheno/vo2max.m.keep', sep=' ', header=False, index=False)\n",
    "vo2max[vo2max['fvo2max'].notnull()][['FID', 'IID']].to_csv('data/pheno/vo2max.f.keep', sep=' ', header=False, index=False)"
   ]
  },
  {
   "cell_type": "code",
   "execution_count": 42,
   "metadata": {},
   "outputs": [
    {
     "name": "stdout",
     "output_type": "stream",
     "text": [
      "   50332 data/pheno/pa.f.pheno\n",
      "   39353 data/pheno/pa.m.pheno\n",
      "   89684 data/pheno/pa.pheno\n",
      "   36365 data/pheno/slope.f.pheno\n",
      "   34420 data/pheno/slope.m.pheno\n",
      "   70784 data/pheno/slope.pheno\n",
      "   36365 data/pheno/vo2max.f.pheno\n",
      "   34420 data/pheno/vo2max.m.pheno\n",
      "   70784 data/pheno/vo2max.pheno\n",
      "  462507 total\n",
      "  50331 data/pheno/pa.f.keep\n",
      "  89683 data/pheno/pa.keep\n",
      "  39352 data/pheno/pa.m.keep\n",
      "  36364 data/pheno/slope.f.keep\n",
      "  70783 data/pheno/slope.keep\n",
      "  34419 data/pheno/slope.m.keep\n",
      "  36364 data/pheno/vo2max.f.keep\n",
      "  70783 data/pheno/vo2max.keep\n",
      "  34419 data/pheno/vo2max.m.keep\n",
      " 462498 total\n"
     ]
    }
   ],
   "source": [
    "%%bash\n",
    "\n",
    "wc -l data/pheno/*pheno\n",
    "wc -l data/pheno/*keep"
   ]
  },
  {
   "cell_type": "code",
   "execution_count": null,
   "metadata": {},
   "outputs": [],
   "source": []
  }
 ],
 "metadata": {
  "kernelspec": {
   "display_name": "Python 3",
   "language": "python",
   "name": "python3"
  },
  "language_info": {
   "codemirror_mode": {
    "name": "ipython",
    "version": 3
   },
   "file_extension": ".py",
   "mimetype": "text/x-python",
   "name": "python",
   "nbconvert_exporter": "python",
   "pygments_lexer": "ipython3",
   "version": "3.7.3"
  },
  "metadata": {
   "interpreter": {
    "hash": "22ab3e6a73a2731b2d2a5eee53baffdb723c6979335821acd0eb70065f9061b3"
   }
  }
 },
 "nbformat": 4,
 "nbformat_minor": 4
}